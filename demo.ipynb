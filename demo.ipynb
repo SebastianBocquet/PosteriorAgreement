{
 "cells": [
  {
   "cell_type": "code",
   "execution_count": 1,
   "metadata": {
    "collapsed": true
   },
   "outputs": [],
   "source": [
    "from __future__ import division\n",
    "import numpy as np\n",
    "\n",
    "import posterior_agreement\n",
    "\n",
    "from matplotlib import pyplot as plt\n",
    "%matplotlib inline"
   ]
  },
  {
   "cell_type": "markdown",
   "metadata": {},
   "source": [
    "# Create fake \"MCMC chains\""
   ]
  },
  {
   "cell_type": "code",
   "execution_count": 2,
   "metadata": {
    "collapsed": true
   },
   "outputs": [],
   "source": [
    "# Create Npoints samples from random multivariate, nDim-dimensional Gaussian\n",
    "def create_random_samples(nDim, Npoints):\n",
    "    means = np.random.rand(nDim)\n",
    "    cov = .5 - np.random.rand(nDim**2).reshape((nDim,nDim))\n",
    "    cov = np.triu(cov)\n",
    "    cov += cov.T - np.diag(cov.diagonal())\n",
    "    cov = np.dot(cov,cov)\n",
    "    samples =  np.random.multivariate_normal(means, cov, Npoints)\n",
    "    return samples\n",
    "\n",
    "# Create two sets of fake data with 3 parameters\n",
    "np.random.seed(42) # To be able to create the same fake data over and over again\n",
    "samples1 = create_random_samples(3, 50000)\n",
    "samples2 = 1+create_random_samples(3, 70000)\n",
    "\n",
    "# Random weights (for weighted example)\n",
    "weights1 = np.random.rand(50000)\n",
    "weights2 = np.random.rand(70000)"
   ]
  },
  {
   "cell_type": "markdown",
   "metadata": {},
   "source": [
    "# Tests with unweighted (unit-weighted) samples"
   ]
  },
  {
   "cell_type": "markdown",
   "metadata": {},
   "source": [
    "## One-dimensional parameter agreement\n",
    "Let's find out how well both data sets agree in their first parameter!"
   ]
  },
  {
   "cell_type": "code",
   "execution_count": 3,
   "metadata": {
    "collapsed": false
   },
   "outputs": [],
   "source": [
    "chains = (samples1[:,0], samples2[:,0])\n",
    "agreement_1d = posterior_agreement.compute_agreement(chains)"
   ]
  },
  {
   "cell_type": "code",
   "execution_count": 4,
   "metadata": {
    "collapsed": false
   },
   "outputs": [
    {
     "name": "stdout",
     "output_type": "stream",
     "text": [
      "p-value 0.410, corresponding to 0.8 sigmas\n"
     ]
    }
   ],
   "source": [
    "print \"p-value %.3f, corresponding to %.1f sigmas\"%(agreement_1d.PTE, agreement_1d.sigma)"
   ]
  },
  {
   "cell_type": "markdown",
   "metadata": {},
   "source": [
    "### Plot the distribution of differences\n",
    "We can simply use the `evaluate_KDE` method. We also highlight the area that corresponds to the PTE."
   ]
  },
  {
   "cell_type": "code",
   "execution_count": 5,
   "metadata": {
    "collapsed": false
   },
   "outputs": [
    {
     "data": {
      "text/plain": [
       "Text(0,0.5,u'$P(\\\\mathrm{difference})$')"
      ]
     },
     "execution_count": 5,
     "metadata": {},
     "output_type": "execute_result"
    },
    {
     "data": {
      "image/png": "[encoded data removed]",
      "text/plain": [
       "<matplotlib.figure.Figure at 0x107796350>"
      ]
     },
     "metadata": {},
     "output_type": "display_data"
    }
   ],
   "source": [
    "diff = np.linspace(agreement_1d.xmin, agreement_1d.xmax, 200)\n",
    "Pdiff = agreement_1d.evaluate_DiffDist(diff)\n",
    "plt.plot(diff, Pdiff)\n",
    "\n",
    "# Get the integration limits\n",
    "from scipy import optimize\n",
    "level = agreement_1d.evaluate_DiffDist(0)\n",
    "func = lambda x: agreement_1d.evaluate_DiffDist(x)-level\n",
    "xlim = optimize.brentq(func, -3, -1)\n",
    "\n",
    "# Left\n",
    "mask = np.where(diff<xlim)\n",
    "plt.fill_between(diff[mask], Pdiff[mask], color='C0')\n",
    "\n",
    "# Right\n",
    "mask = np.where(diff>0)\n",
    "plt.fill_between(diff[mask], Pdiff[mask], color='C0')\n",
    "\n",
    "plt.xlabel('difference')\n",
    "plt.ylabel('$P(\\mathrm{difference})$')"
   ]
  },
  {
   "cell_type": "markdown",
   "metadata": {},
   "source": [
    "## Two-dimensional parameter agreement\n",
    "Now let's see what the agreement is in the space of parameters one and three. Note that this may take a little while to run. If too impatient, try and play with the `nSamples` and `nBins` arguments."
   ]
  },
  {
   "cell_type": "code",
   "execution_count": 6,
   "metadata": {
    "collapsed": false
   },
   "outputs": [],
   "source": [
    "chains = (samples1[:,[0,2]], samples2[:,[0,2]])\n",
    "agreement_2d = posterior_agreement.compute_agreement(chains, nSamples=50000)"
   ]
  },
  {
   "cell_type": "code",
   "execution_count": 7,
   "metadata": {
    "collapsed": false
   },
   "outputs": [
    {
     "name": "stdout",
     "output_type": "stream",
     "text": [
      "p-value 0.683, corresponding to 0.4 sigmas\n"
     ]
    }
   ],
   "source": [
    "print \"p-value %.3f, corresponding to %.1f sigmas\"%(agreement_2d.PTE, agreement_2d.sigma)"
   ]
  },
  {
   "cell_type": "markdown",
   "metadata": {},
   "source": [
    "# Weighted samples\n",
    "Now assume that our samples have weights. This could be because we used an MCMC sampler of multinest, or because we importance-sampled a chain.\n",
    "\n",
    "We initialized the weights as random numbers [0,1), so they should have no impact on the results."
   ]
  },
  {
   "cell_type": "code",
   "execution_count": 8,
   "metadata": {
    "collapsed": false
   },
   "outputs": [],
   "source": [
    "chains = (samples1[:,0], samples2[:,0])\n",
    "weights = (weights1, weights2)\n",
    "agreement_1d = posterior_agreement.compute_agreement(chains, weights=weights)"
   ]
  },
  {
   "cell_type": "code",
   "execution_count": 9,
   "metadata": {
    "collapsed": false
   },
   "outputs": [
    {
     "name": "stdout",
     "output_type": "stream",
     "text": [
      "p-value 0.410, corresponding to 0.8 sigmas\n"
     ]
    }
   ],
   "source": [
    "print \"p-value %.3f, corresponding to %.1f sigmas\"%(agreement_1d.PTE, agreement_1d.sigma)"
   ]
  },
  {
   "cell_type": "code",
   "execution_count": 10,
   "metadata": {
    "collapsed": false
   },
   "outputs": [],
   "source": [
    "chains = (samples1[:,[0,2]], samples2[:,[0,2]])\n",
    "weights = (weights1, weights2)\n",
    "\n",
    "agreement_2d = posterior_agreement.compute_agreement(chains, weights=weights, nSamples=50000)"
   ]
  },
  {
   "cell_type": "code",
   "execution_count": 11,
   "metadata": {
    "collapsed": false
   },
   "outputs": [
    {
     "name": "stdout",
     "output_type": "stream",
     "text": [
      "p-value 0.674, corresponding to 0.4 sigmas\n"
     ]
    }
   ],
   "source": [
    "print \"p-value %.3f, corresponding to %.1f sigmas\"%(agreement_2d.PTE, agreement_2d.sigma)"
   ]
  },
  {
   "cell_type": "markdown",
   "metadata": {},
   "source": [
    "# Notes about what the number of sigmas means"
   ]
  },
  {
   "cell_type": "markdown",
   "metadata": {},
   "source": [
    "## 1D analytic example\n",
    "Let's draw from a one-dimensional Gaussian distribution $\\mathcal N(0,1)$, and from a $\\delta$ function centered at 1 or 2. We know the answer: this should give $1\\sigma$ and $2\\sigma$ difference. And it does!"
   ]
  },
  {
   "cell_type": "code",
   "execution_count": 12,
   "metadata": {
    "collapsed": false
   },
   "outputs": [],
   "source": [
    "samples0 = np.random.randn(10000)\n",
    "samples1 = np.ones(10)\n",
    "samples2 = 2*np.ones(10)"
   ]
  },
  {
   "cell_type": "code",
   "execution_count": 13,
   "metadata": {
    "collapsed": false
   },
   "outputs": [],
   "source": [
    "agreement_1d_1 = posterior_agreement.compute_agreement((samples0, samples1), nSamples=50000, nBins=60)\n",
    "agreement_1d_2 = posterior_agreement.compute_agreement((samples0, samples2), nSamples=50000, nBins=60)"
   ]
  },
  {
   "cell_type": "code",
   "execution_count": 14,
   "metadata": {
    "collapsed": false
   },
   "outputs": [
    {
     "name": "stdout",
     "output_type": "stream",
     "text": [
      "Example one: 1.001σ, exact solution is 1\n",
      "Example two: 2.049σ, exact solution is 2\n"
     ]
    }
   ],
   "source": [
    "print \"Example one: %.3fσ, exact solution is 1\"%agreement_1d_1.sigma\n",
    "print \"Example two: %.3fσ, exact solution is 2\"%agreement_1d_2.sigma"
   ]
  },
  {
   "cell_type": "markdown",
   "metadata": {},
   "source": [
    "## 2D analytic example\n",
    "Same exercise, but in two dimensions. Naively, you might think we should get $1\\sigma$ and $2\\sigma$ differences. But we don't. So what's going on? Well, remember we are asking what the probability to exceed zero difference is, and we convert this $p$-value to sigmas. We are not asking whether 0 difference coincides with the $1\\sigma$ or $2\\sigma$ isocontour."
   ]
  },
  {
   "cell_type": "code",
   "execution_count": 15,
   "metadata": {
    "collapsed": false
   },
   "outputs": [],
   "source": [
    "cov = [[1,0], [0,1]]\n",
    "samples0 =  np.random.multivariate_normal([0,0], cov, 50000)\n",
    "samples1 = np.concatenate((np.ones(10)[:,None],np.zeros(10)[:,None]), axis=1)"
   ]
  },
  {
   "cell_type": "code",
   "execution_count": 16,
   "metadata": {
    "collapsed": false
   },
   "outputs": [],
   "source": [
    "agreement_2d_1 = posterior_agreement.compute_agreement((samples0, samples1), nSamples=50000, nBins=60)"
   ]
  },
  {
   "cell_type": "code",
   "execution_count": 17,
   "metadata": {
    "collapsed": false
   },
   "outputs": [
    {
     "name": "stdout",
     "output_type": "stream",
     "text": [
      "Example one: PTE 0.615, 0.503σ\n"
     ]
    }
   ],
   "source": [
    "print \"Example one: PTE %.3f, %.3fσ\"%(agreement_2d_1.PTE, agreement_2d_1.sigma)"
   ]
  },
  {
   "cell_type": "code",
   "execution_count": null,
   "metadata": {
    "collapsed": true
   },
   "outputs": [],
   "source": []
  }
 ],
 "metadata": {
  "kernelspec": {
   "display_name": "Python 2",
   "language": "python",
   "name": "python2"
  },
  "language_info": {
   "codemirror_mode": {
    "name": "ipython",
    "version": 2
   },
   "file_extension": ".py",
   "mimetype": "text/x-python",
   "name": "python",
   "nbconvert_exporter": "python",
   "pygments_lexer": "ipython2",
   "version": "2.7.14"
  }
 },
 "nbformat": 4,
 "nbformat_minor": 0
}
